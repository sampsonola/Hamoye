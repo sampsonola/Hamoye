{
  "cells": [
    {
      "cell_type": "code",
      "execution_count": 1,
      "metadata": {
        "colab": {
          "base_uri": "https://localhost:8080/"
        },
        "id": "AJBE-WEbA8FD",
        "outputId": "3faf26ce-3911-435b-ccd8-fbff20628fa8"
      },
      "outputs": [
        {
          "name": "stdout",
          "output_type": "stream",
          "text": [
            "Downloading planet-understanding-the-amazon-from-space, 3080605 bytes compressed\n",
            "[==================================================] 3080605 bytes downloaded\n",
            "Downloaded and uncompressed: planet-understanding-the-amazon-from-space\n",
            "Downloading planets-dataset, 1609474013 bytes compressed\n",
            "[==================================================] 1609474013 bytes downloaded\n",
            "Downloaded and uncompressed: planets-dataset\n",
            "Data source import complete.\n"
          ]
        }
      ],
      "source": [
        "\n",
        "# IMPORTANT: RUN THIS CELL IN ORDER TO IMPORT YOUR KAGGLE DATA SOURCES\n",
        "# TO THE CORRECT LOCATION (/kaggle/input) IN YOUR NOTEBOOK,\n",
        "# THEN FEEL FREE TO DELETE THIS CELL.\n",
        "# NOTE: THIS NOTEBOOK ENVIRONMENT DIFFERS FROM KAGGLE'S PYTHON\n",
        "# ENVIRONMENT SO THERE MAY BE MISSING LIBRARIES USED BY YOUR\n",
        "# NOTEBOOK.\n",
        "\n",
        "import os\n",
        "import sys\n",
        "from tempfile import NamedTemporaryFile\n",
        "from urllib.request import urlopen\n",
        "from urllib.parse import unquote, urlparse\n",
        "from urllib.error import HTTPError\n",
        "from zipfile import ZipFile\n",
        "import tarfile\n",
        "import shutil\n",
        "\n",
        "CHUNK_SIZE = 40960\n",
        "DATA_SOURCE_MAPPING = 'planet-understanding-the-amazon-from-space:https%3A%2F%2Fstorage.googleapis.com%2Fkaggle-competitions-data%2Fkaggle-v2%2F6322%2F868312%2Fbundle%2Farchive.zip%3FX-Goog-Algorithm%3DGOOG4-RSA-SHA256%26X-Goog-Credential%3Dgcp-kaggle-com%2540kaggle-161607.iam.gserviceaccount.com%252F20240604%252Fauto%252Fstorage%252Fgoog4_request%26X-Goog-Date%3D20240604T204936Z%26X-Goog-Expires%3D259200%26X-Goog-SignedHeaders%3Dhost%26X-Goog-Signature%3D455d3163bd4ccf1129956e0a932d17629731b7595453952a83ed07d1e0b9c82b8cbefcc55681cce01c2247635a7aa73a85ffd97ed957e2d89c82497b27a5de005b45336a8bf5a5839739a581106df9c3d80c5cdf3572201bf400ec76c63eaa75f76e549e03f0230aa242da19fb73028437543215affc4d541025542506b84a42cb58b933130636f75f4866e55850c7420f6af3cbd26e1de3375b564fe15ffc6b41c1821b3bf947596f7a2af2a3e8fbbe2f58d5cd1f3ea0ce61a760906aabace9333da10883c6588d4f5f23aace3b69953a96eee0425e59131dfe998d6712a4445ba8cef1bca714006e02235bfab176091620357f4f9e1501ee2a63cc251cca1a,planets-dataset:https%3A%2F%2Fstorage.googleapis.com%2Fkaggle-data-sets%2F503255%2F938046%2Fbundle%2Farchive.zip%3FX-Goog-Algorithm%3DGOOG4-RSA-SHA256%26X-Goog-Credential%3Dgcp-kaggle-com%2540kaggle-161607.iam.gserviceaccount.com%252F20240604%252Fauto%252Fstorage%252Fgoog4_request%26X-Goog-Date%3D20240604T204936Z%26X-Goog-Expires%3D259200%26X-Goog-SignedHeaders%3Dhost%26X-Goog-Signature%3D66c146f5fa0dbd4a47039fa1ea61f7611d8129f82c20b4415d972d874be1da9cd2ef735c3bc4ca15501fd72a65a0fe3beaf3a1ae766662aa051b6b889c4b6ae56421d58e59676c879f6f1697a2260728eeb58321199bd424d481f0349a381adb1a1b19058789b127f1aedb31ded3cd51aa1734fb4c08f68604bf489c51cac6edad6e8f1b88af31ef967f14fc210102ae77a1d10acd0503afe14d9f3deccf920a87515c4de092278f499aa6789bb67887844df1d636ede84954708bac9d9566422bd29bcf2a7c33b9fedce00cc71dabb691abadfd8214f9b6ae0c8add862e6939b981c533a7f52ff0ff9ab71ca9fbc2ffdfdeb22ffad5fcbd044fce6f09fee9d3'\n",
        "\n",
        "KAGGLE_INPUT_PATH='/kaggle/input'\n",
        "KAGGLE_WORKING_PATH='/kaggle/working'\n",
        "KAGGLE_SYMLINK='kaggle'\n",
        "\n",
        "!umount /kaggle/input/ 2> /dev/null\n",
        "shutil.rmtree('/kaggle/input', ignore_errors=True)\n",
        "os.makedirs(KAGGLE_INPUT_PATH, 0o777, exist_ok=True)\n",
        "os.makedirs(KAGGLE_WORKING_PATH, 0o777, exist_ok=True)\n",
        "\n",
        "try:\n",
        "  os.symlink(KAGGLE_INPUT_PATH, os.path.join(\"..\", 'input'), target_is_directory=True)\n",
        "except FileExistsError:\n",
        "  pass\n",
        "try:\n",
        "  os.symlink(KAGGLE_WORKING_PATH, os.path.join(\"..\", 'working'), target_is_directory=True)\n",
        "except FileExistsError:\n",
        "  pass\n",
        "\n",
        "for data_source_mapping in DATA_SOURCE_MAPPING.split(','):\n",
        "    directory, download_url_encoded = data_source_mapping.split(':')\n",
        "    download_url = unquote(download_url_encoded)\n",
        "    filename = urlparse(download_url).path\n",
        "    destination_path = os.path.join(KAGGLE_INPUT_PATH, directory)\n",
        "    try:\n",
        "        with urlopen(download_url) as fileres, NamedTemporaryFile() as tfile:\n",
        "            total_length = fileres.headers['content-length']\n",
        "            print(f'Downloading {directory}, {total_length} bytes compressed')\n",
        "            dl = 0\n",
        "            data = fileres.read(CHUNK_SIZE)\n",
        "            while len(data) > 0:\n",
        "                dl += len(data)\n",
        "                tfile.write(data)\n",
        "                done = int(50 * dl / int(total_length))\n",
        "                sys.stdout.write(f\"\\r[{'=' * done}{' ' * (50-done)}] {dl} bytes downloaded\")\n",
        "                sys.stdout.flush()\n",
        "                data = fileres.read(CHUNK_SIZE)\n",
        "            if filename.endswith('.zip'):\n",
        "              with ZipFile(tfile) as zfile:\n",
        "                zfile.extractall(destination_path)\n",
        "            else:\n",
        "              with tarfile.open(tfile.name) as tarfile:\n",
        "                tarfile.extractall(destination_path)\n",
        "            print(f'\\nDownloaded and uncompressed: {directory}')\n",
        "    except HTTPError as e:\n",
        "        print(f'Failed to load (likely expired) {download_url} to path {destination_path}')\n",
        "        continue\n",
        "    except OSError as e:\n",
        "        print(f'Failed to load {download_url} to path {destination_path}')\n",
        "        continue\n",
        "\n",
        "print('Data source import complete.')\n"
      ]
    },
    {
      "cell_type": "markdown",
      "metadata": {
        "id": "XGj1oK7kA8FH"
      },
      "source": []
    },
    {
      "cell_type": "code",
      "execution_count": null,
      "metadata": {
        "_cell_guid": "b1076dfc-b9ad-4769-8c92-a6c4dae69d19",
        "_uuid": "8f2839f25d086af736a60e9eeb907d3b93b6e0e5",
        "execution": {
          "iopub.execute_input": "2024-06-04T12:21:36.304507Z",
          "iopub.status.busy": "2024-06-04T12:21:36.304221Z",
          "iopub.status.idle": "2024-06-04T12:22:31.936869Z",
          "shell.execute_reply": "2024-06-04T12:22:31.935217Z",
          "shell.execute_reply.started": "2024-06-04T12:21:36.304481Z"
        },
        "id": "b5ZUPqJYA8FI",
        "trusted": true
      },
      "outputs": [],
      "source": [
        "!pip install fastai --upgrade -q\n",
        "from fastai.vision.all import *\n",
        "import warnings\n",
        "warnings.filterwarnings(\"ignore\")\n",
        "\n",
        "!pip install wwf -q\n",
        "!pip install timm -q\n",
        "from wwf.vision.timm import *\n",
        "\n",
        "!pip install efficientnet_pytorch -q\n"
      ]
    },
    {
      "cell_type": "markdown",
      "metadata": {
        "id": "TjHpHCuJA8FI"
      },
      "source": [
        "# Import data"
      ]
    },
    {
      "cell_type": "code",
      "execution_count": null,
      "metadata": {
        "_cell_guid": "79c7e3d0-c299-4dcb-8224-4455121ee9b0",
        "_uuid": "d629ff2d2480ee46fbb7e2d37f6b5fab8052498a",
        "execution": {
          "iopub.execute_input": "2024-06-04T12:23:03.441371Z",
          "iopub.status.busy": "2024-06-04T12:23:03.440382Z",
          "iopub.status.idle": "2024-06-04T12:23:03.446046Z",
          "shell.execute_reply": "2024-06-04T12:23:03.445109Z",
          "shell.execute_reply.started": "2024-06-04T12:23:03.441326Z"
        },
        "id": "0Xesnh9uA8FL",
        "trusted": true
      },
      "outputs": [],
      "source": [
        "path = Path('../input/planets-dataset/planet/planet')"
      ]
    },
    {
      "cell_type": "code",
      "execution_count": null,
      "metadata": {
        "execution": {
          "iopub.execute_input": "2024-06-04T12:23:06.858065Z",
          "iopub.status.busy": "2024-06-04T12:23:06.857678Z",
          "iopub.status.idle": "2024-06-04T12:23:06.943504Z",
          "shell.execute_reply": "2024-06-04T12:23:06.942466Z",
          "shell.execute_reply.started": "2024-06-04T12:23:06.858034Z"
        },
        "id": "vQVrJK1dA8FL",
        "trusted": true
      },
      "outputs": [],
      "source": [
        "df_ = pd.read_csv(path/'train_classes.csv')\n",
        "df_"
      ]
    },
    {
      "cell_type": "code",
      "execution_count": null,
      "metadata": {
        "execution": {
          "iopub.execute_input": "2024-06-04T12:23:24.889929Z",
          "iopub.status.busy": "2024-06-04T12:23:24.889537Z",
          "iopub.status.idle": "2024-06-04T12:23:24.897336Z",
          "shell.execute_reply": "2024-06-04T12:23:24.89618Z",
          "shell.execute_reply.started": "2024-06-04T12:23:24.889897Z"
        },
        "id": "Xq3r2M0dA8FL",
        "trusted": true
      },
      "outputs": [],
      "source": [
        "def get_x(r):\n",
        "    return path/'train-jpg'/(r['image_name']+'.jpg')\n",
        "\n",
        "def get_y(r):\n",
        "    return r['tags'].split()\n",
        "\n",
        "def get_data(size=224,bs=64,data_df=df_):\n",
        "    dblock = DataBlock(blocks=(ImageBlock, MultiCategoryBlock),\n",
        "                       splitter=RandomSplitter(seed=42),\n",
        "                       get_x=get_x,\n",
        "                       get_y=get_y,\n",
        "                       item_tfms = Resize(size),\n",
        "                       batch_tfms = [*aug_transforms(flip_vert=True,max_warp=0),\n",
        "                                     Normalize.from_stats(*imagenet_stats)]\n",
        "                      )\n",
        "    return dblock.dataloaders(data_df,bs=bs)"
      ]
    },
    {
      "cell_type": "code",
      "execution_count": null,
      "metadata": {
        "execution": {
          "iopub.execute_input": "2024-06-04T12:23:30.034394Z",
          "iopub.status.busy": "2024-06-04T12:23:30.033562Z",
          "iopub.status.idle": "2024-06-04T12:23:34.618854Z",
          "shell.execute_reply": "2024-06-04T12:23:34.617746Z",
          "shell.execute_reply.started": "2024-06-04T12:23:30.034351Z"
        },
        "id": "G8ZzC5fpA8FM",
        "trusted": true
      },
      "outputs": [],
      "source": [
        "dls = get_data(300,40)"
      ]
    },
    {
      "cell_type": "code",
      "execution_count": null,
      "metadata": {
        "execution": {
          "iopub.execute_input": "2024-06-04T12:23:38.982214Z",
          "iopub.status.busy": "2024-06-04T12:23:38.981853Z",
          "iopub.status.idle": "2024-06-04T12:23:40.171258Z",
          "shell.execute_reply": "2024-06-04T12:23:40.170189Z",
          "shell.execute_reply.started": "2024-06-04T12:23:38.982184Z"
        },
        "id": "hcKNqJ6iA8FM",
        "trusted": true
      },
      "outputs": [],
      "source": [
        "dls.show_batch(nrows=1, ncols=3)"
      ]
    },
    {
      "cell_type": "markdown",
      "metadata": {
        "id": "fON8Z3c7A8FM"
      },
      "source": [
        " Training"
      ]
    },
    {
      "cell_type": "markdown",
      "metadata": {
        "id": "eWQcT9tSA8FN"
      },
      "source": []
    },
    {
      "cell_type": "code",
      "execution_count": null,
      "metadata": {
        "execution": {
          "iopub.execute_input": "2024-06-04T12:23:50.04087Z",
          "iopub.status.busy": "2024-06-04T12:23:50.040478Z",
          "iopub.status.idle": "2024-06-04T12:23:50.046227Z",
          "shell.execute_reply": "2024-06-04T12:23:50.045118Z",
          "shell.execute_reply.started": "2024-06-04T12:23:50.04084Z"
        },
        "id": "x44pN3JuA8FN",
        "trusted": true
      },
      "outputs": [],
      "source": [
        "f2samples = FBetaMulti(beta=2,average='samples',thresh=0.2)\n",
        "metrics = [partial(accuracy_multi, thresh=0.2), f2samples]\n",
        "cbs = [MixUp]"
      ]
    },
    {
      "cell_type": "code",
      "execution_count": null,
      "metadata": {
        "execution": {
          "iopub.execute_input": "2024-06-04T12:23:56.361564Z",
          "iopub.status.busy": "2024-06-04T12:23:56.361209Z",
          "iopub.status.idle": "2024-06-04T12:23:57.590858Z",
          "shell.execute_reply": "2024-06-04T12:23:57.589857Z",
          "shell.execute_reply.started": "2024-06-04T12:23:56.361537Z"
        },
        "id": "N1VBXUEUA8FN",
        "trusted": true
      },
      "outputs": [],
      "source": [
        "learn = timm_learner(dls, 'efficientnet_b3', metrics=metrics, cbs=cbs)"
      ]
    },
    {
      "cell_type": "code",
      "execution_count": null,
      "metadata": {
        "execution": {
          "iopub.execute_input": "2024-06-04T12:24:05.813583Z",
          "iopub.status.busy": "2024-06-04T12:24:05.812748Z",
          "iopub.status.idle": "2024-06-04T14:16:26.698199Z",
          "shell.execute_reply": "2024-06-04T14:16:26.697077Z",
          "shell.execute_reply.started": "2024-06-04T12:24:05.813538Z"
        },
        "id": "-EO85qXyA8FN",
        "trusted": true
      },
      "outputs": [],
      "source": [
        "learn.fine_tune(12, base_lr=3e-2, freeze_epochs=4)"
      ]
    },
    {
      "cell_type": "markdown",
      "metadata": {
        "id": "XQZa5uL1A8FN"
      },
      "source": [
        "# Submission using TTA"
      ]
    },
    {
      "cell_type": "code",
      "execution_count": null,
      "metadata": {
        "execution": {
          "iopub.execute_input": "2024-06-04T14:28:40.759926Z",
          "iopub.status.busy": "2024-06-04T14:28:40.758573Z",
          "iopub.status.idle": "2024-06-04T14:28:41.521924Z",
          "shell.execute_reply": "2024-06-04T14:28:41.520924Z",
          "shell.execute_reply.started": "2024-06-04T14:28:40.759881Z"
        },
        "id": "gGUOyp94A8FN",
        "trusted": true
      },
      "outputs": [],
      "source": [
        "file_path = Path('../input/planets-dataset/test-jpg-additional/test-jpg-additional')\n",
        "test_path = Path('../input/planets-dataset/planet/planet/test-jpg')\n",
        "submission_df = pd.read_csv(path/'sample_submission.csv')\n",
        "testing_path = (submission_df['image_name'] + '.jpg').apply(lambda x: test_path/x if x.startswith('test') else file_path/x)\n",
        "\n",
        "def prediction(filename='submission.csv', tta=False):\n",
        "    tst_dl = learn.dls.test_dl(testing_path)\n",
        "    if tta:\n",
        "        predictions = learn.tta(dl = tst_dl)\n",
        "    else:\n",
        "        predictions = learn.get_preds(dl = tst_dl)\n",
        "    predlist = [' '.join(learn.dls.vocab[i]) for i in (predictions[0] > 0.2)]\n",
        "\n",
        "    df = submission_df\n",
        "    df['tags'] = predlist\n",
        "\n",
        "    df.to_csv(filename, index=False)\n",
        "    return df"
      ]
    },
    {
      "cell_type": "code",
      "execution_count": null,
      "metadata": {
        "execution": {
          "iopub.execute_input": "2024-06-04T14:28:48.369946Z",
          "iopub.status.busy": "2024-06-04T14:28:48.369569Z",
          "iopub.status.idle": "2024-06-04T14:47:10.913357Z",
          "shell.execute_reply": "2024-06-04T14:47:10.912075Z",
          "shell.execute_reply.started": "2024-06-04T14:28:48.369917Z"
        },
        "id": "zRUqMZDbA8FO",
        "trusted": true
      },
      "outputs": [],
      "source": [
        "prediction('submission_tta.csv', tta=True)"
      ]
    }
  ],
  "metadata": {
    "colab": {
      "name": "(Hamoye_image)-pred",
      "provenance": []
    },
    "kaggle": {
      "accelerator": "gpu",
      "dataSources": [
        {
          "databundleVersionId": 868312,
          "sourceId": 6322,
          "sourceType": "competition"
        },
        {
          "datasetId": 503255,
          "sourceId": 938046,
          "sourceType": "datasetVersion"
        }
      ],
      "dockerImageVersionId": 30528,
      "isGpuEnabled": true,
      "isInternetEnabled": true,
      "language": "python",
      "sourceType": "notebook"
    },
    "kernelspec": {
      "display_name": "Python 3",
      "language": "python",
      "name": "python3"
    },
    "language_info": {
      "codemirror_mode": {
        "name": "ipython",
        "version": 3
      },
      "file_extension": ".py",
      "mimetype": "text/x-python",
      "name": "python",
      "nbconvert_exporter": "python",
      "pygments_lexer": "ipython3",
      "version": "3.10.12"
    }
  },
  "nbformat": 4,
  "nbformat_minor": 0
}
