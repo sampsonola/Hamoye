{
 "cells": [
  {
   "cell_type": "code",
   "execution_count": 4,
   "id": "c39c4e6d-876a-4961-ab29-3f611c8854fc",
   "metadata": {},
   "outputs": [],
   "source": [
    "import pandas as pd\n",
    "from sklearn.model_selection import train_test_split\n",
    "from sklearn.preprocessing import StandardScaler, OneHotEncoder\n",
    "from sklearn.ensemble import RandomForestClassifier, ExtraTreesClassifier\n",
    "from xgboost import XGBClassifier\n",
    "from lightgbm import LGBMClassifier\n",
    "from sklearn.metrics import accuracy_score"
   ]
  },
  {
   "cell_type": "code",
   "execution_count": 5,
   "id": "46a60bdc-b976-44be-a01f-00b75e1e2559",
   "metadata": {},
   "outputs": [],
   "source": [
    "df=pd.read_csv(\"Ass.csv\")"
   ]
  },
  {
   "cell_type": "code",
   "execution_count": 6,
   "id": "af795425-8fc3-40ec-83dd-f33a6481c4b6",
   "metadata": {},
   "outputs": [
    {
     "name": "stderr",
     "output_type": "stream",
     "text": [
      "C:\\Users\\DELL\\AppData\\Local\\Temp\\ipykernel_29852\\645785653.py:5: FutureWarning: A value is trying to be set on a copy of a DataFrame or Series through chained assignment using an inplace method.\n",
      "The behavior will change in pandas 3.0. This inplace method will never work because the intermediate object on which we are setting values always behaves as a copy.\n",
      "\n",
      "For example, when doing 'df[col].method(value, inplace=True)', try using 'df.method({col: value}, inplace=True)' or df[col] = df[col].method(value) instead, to perform the operation inplace on the original object.\n",
      "\n",
      "\n",
      "  df['TotalCharges'].fillna(0, inplace=True)\n"
     ]
    },
    {
     "name": "stdout",
     "output_type": "stream",
     "text": [
      "[LightGBM] [Warning] Found whitespace in feature_names, replace with underlines\n",
      "[LightGBM] [Info] Number of positive: 1521, number of negative: 4113\n",
      "[LightGBM] [Info] Auto-choosing row-wise multi-threading, the overhead of testing was 0.000318 seconds.\n",
      "You can set `force_row_wise=true` to remove the overhead.\n",
      "And if memory is not enough, you can set `force_col_wise=true`.\n",
      "[LightGBM] [Info] Total Bins 670\n",
      "[LightGBM] [Info] Number of data points in the train set: 5634, number of used features: 46\n",
      "[LightGBM] [Info] [binary:BoostFromScore]: pavg=0.269968 -> initscore=-0.994785\n",
      "[LightGBM] [Info] Start training from score -0.994785\n",
      "Random Forest Accuracy: 0.7913\n",
      "Extra Trees Accuracy: 0.7672\n",
      "XGBoost Accuracy: 0.7935\n",
      "LightGBM Accuracy: 0.8034\n"
     ]
    }
   ],
   "source": [
    "# Convert 'TotalCharges' to numeric values, coercing errors to NaN\n",
    "df['TotalCharges'] = pd.to_numeric(df['TotalCharges'], errors='coerce')\n",
    "\n",
    "# Fill NaN values with 0\n",
    "df['TotalCharges'].fillna(0, inplace=True)\n",
    "\n",
    "# Convert the 'Churn' column to binary values\n",
    "df['Churn'] = df['Churn'].map({'No': 0, 'Yes': 1})\n",
    "\n",
    "# Define the lists of categorical and numerical features\n",
    "categorical = ['gender', 'SeniorCitizen', 'Partner', 'Dependents', 'PhoneService', 'MultipleLines', 'InternetService',\n",
    "               'OnlineSecurity', 'OnlineBackup', 'DeviceProtection', 'TechSupport', 'StreamingTV', 'StreamingMovies',\n",
    "               'Contract', 'PaperlessBilling', 'PaymentMethod']\n",
    "numerical = ['tenure', 'MonthlyCharges', 'TotalCharges']\n",
    "\n",
    "# Split the data into features (X) and target (y)\n",
    "X = df[categorical + numerical]\n",
    "y = df['Churn']\n",
    "\n",
    "# Perform the train-test split\n",
    "X_train, X_test, y_train, y_test = train_test_split(X, y, test_size=0.2, random_state=1)\n",
    "\n",
    "# Initialize the StandardScaler\n",
    "scaler = StandardScaler()\n",
    "\n",
    "# Scale the numerical features\n",
    "X_train_numerical = scaler.fit_transform(X_train[numerical])\n",
    "X_test_numerical = scaler.transform(X_test[numerical])\n",
    "\n",
    "# Convert the scaled numerical features back to DataFrame\n",
    "X_train_numerical_df = pd.DataFrame(X_train_numerical, columns=numerical, index=X_train.index)\n",
    "X_test_numerical_df = pd.DataFrame(X_test_numerical, columns=numerical, index=X_test.index)\n",
    "\n",
    "# Initialize the OneHotEncoder\n",
    "encoder = OneHotEncoder(sparse_output=False)\n",
    "\n",
    "# One-hot encode the categorical features\n",
    "X_train_categorical = encoder.fit_transform(X_train[categorical])\n",
    "X_test_categorical = encoder.transform(X_test[categorical])\n",
    "\n",
    "# Convert the one-hot encoded features back to DataFrame\n",
    "X_train_categorical_df = pd.DataFrame(X_train_categorical, columns=encoder.get_feature_names_out(categorical), index=X_train.index)\n",
    "X_test_categorical_df = pd.DataFrame(X_test_categorical, columns=encoder.get_feature_names_out(categorical), index=X_test.index)\n",
    "\n",
    "# Combine scaled numerical and one-hot encoded categorical features\n",
    "X_train_combined = pd.concat([X_train_numerical_df, X_train_categorical_df], axis=1)\n",
    "X_test_combined = pd.concat([X_test_numerical_df, X_test_categorical_df], axis=1)\n",
    "\n",
    "# Initialize the models with random_state=1\n",
    "models = {\n",
    "    'Random Forest': RandomForestClassifier(random_state=1),\n",
    "    'Extra Trees': ExtraTreesClassifier(random_state=1),\n",
    "    'XGBoost': XGBClassifier(use_label_encoder=False, eval_metric='logloss', random_state=1),\n",
    "    'LightGBM': LGBMClassifier(random_state=1)\n",
    "}\n",
    "\n",
    "# Train and evaluate the models\n",
    "results = {}\n",
    "for name, model in models.items():\n",
    "    model.fit(X_train_combined, y_train)\n",
    "    y_pred = model.predict(X_test_combined)\n",
    "    accuracy = accuracy_score(y_test, y_pred)\n",
    "    results[name] = accuracy\n",
    "\n",
    "# Print the results\n",
    "for name, accuracy in results.items():\n",
    "    print(f\"{name} Accuracy: {accuracy:.4f}\")"
   ]
  },
  {
   "cell_type": "code",
   "execution_count": null,
   "id": "e1030945-17e5-417d-ad8c-109e23156f3f",
   "metadata": {},
   "outputs": [],
   "source": []
  },
  {
   "cell_type": "code",
   "execution_count": null,
   "id": "e199fd7d-c5c3-4e48-8b78-216bc7c1cd70",
   "metadata": {},
   "outputs": [],
   "source": []
  }
 ],
 "metadata": {
  "kernelspec": {
   "display_name": "Python 3 (ipykernel)",
   "language": "python",
   "name": "python3"
  },
  "language_info": {
   "codemirror_mode": {
    "name": "ipython",
    "version": 3
   },
   "file_extension": ".py",
   "mimetype": "text/x-python",
   "name": "python",
   "nbconvert_exporter": "python",
   "pygments_lexer": "ipython3",
   "version": "3.11.5"
  }
 },
 "nbformat": 4,
 "nbformat_minor": 5
}
